{
 "cells": [
  {
   "cell_type": "code",
   "execution_count": 1,
   "id": "f284e68d-3fc4-43ac-b6bb-3a6f389fa2f5",
   "metadata": {},
   "outputs": [],
   "source": [
    "import os\n",
    "import pandas as pd\n",
    "import glob\n",
    "from pandasql import sqldf"
   ]
  },
  {
   "cell_type": "code",
   "execution_count": 2,
   "id": "10e9dd7c-0834-4725-99f0-3fc4c7009721",
   "metadata": {},
   "outputs": [],
   "source": [
    "folder_path = '/Users/saurabhmehta/Documents/Tesla/OneDrive_2_1-27-2024'\n",
    "file_list = glob.glob(folder_path + \"/*.csv\") \n",
    "main_df = pd.DataFrame(pd.read_csv(file_list[0])) "
   ]
  },
  {
   "cell_type": "code",
   "execution_count": null,
   "id": "8068a707-50b1-47df-92db-03d5f67a090c",
   "metadata": {},
   "outputs": [],
   "source": [
    "#Load all 32 signals files - temperature and power in one data frame"
   ]
  },
  {
   "cell_type": "code",
   "execution_count": 3,
   "id": "94333af8-9252-41c1-b86e-ca22282ca5b2",
   "metadata": {},
   "outputs": [],
   "source": [
    "for i in range(1,len(file_list)): \n",
    "    data = pd.read_csv(file_list[i]) \n",
    "    df = pd.DataFrame(data) \n",
    "    main_df = pd.concat([main_df,df],ignore_index=True) "
   ]
  },
  {
   "cell_type": "code",
   "execution_count": 4,
   "id": "3f07c1eb-2a1e-434d-ac29-2e295879612d",
   "metadata": {},
   "outputs": [
    {
     "data": {
      "text/plain": [
       "(9097164, 8)"
      ]
     },
     "execution_count": 4,
     "metadata": {},
     "output_type": "execute_result"
    }
   ],
   "source": [
    "main_df.shape"
   ]
  },
  {
   "cell_type": "code",
   "execution_count": 5,
   "id": "916c9800-304e-4c38-9933-4e7e8f83d5d7",
   "metadata": {},
   "outputs": [
    {
     "name": "stdout",
     "output_type": "stream",
     "text": [
      "                signal_name\n",
      "0  LM_handleNegCoreTempDegC\n",
      "1           LM_pcbaTempDegC\n",
      "2  LM_handlePosCoreTempDegC\n",
      "3             LM_powerLimit\n"
     ]
    }
   ],
   "source": [
    "print(sqldf(\"select distinct Signal_name from main_df\"))"
   ]
  },
  {
   "cell_type": "code",
   "execution_count": null,
   "id": "05ca45c7-0b4c-460b-872b-c746f5d23c03",
   "metadata": {},
   "outputs": [],
   "source": [
    "# High Temperature Components 105 Farenheit  44.56 Celcius"
   ]
  },
  {
   "cell_type": "code",
   "execution_count": 6,
   "id": "6ca3435c-b358-46e5-bc00-f3d97d3bc432",
   "metadata": {},
   "outputs": [],
   "source": [
    "HighTemp_Components=sqldf(\"select distinct component from main_df where value > 40.56 and signal_name in ('LM_handleNegCoreTempDegC','LM_pcbaTempDegC','LM_handlePosCoreTempDegC')\")"
   ]
  },
  {
   "cell_type": "code",
   "execution_count": 7,
   "id": "0ef9d1e9-c34b-4c52-b3f3-01bd99b36dfe",
   "metadata": {},
   "outputs": [
    {
     "data": {
      "text/html": [
       "<div>\n",
       "<style scoped>\n",
       "    .dataframe tbody tr th:only-of-type {\n",
       "        vertical-align: middle;\n",
       "    }\n",
       "\n",
       "    .dataframe tbody tr th {\n",
       "        vertical-align: top;\n",
       "    }\n",
       "\n",
       "    .dataframe thead th {\n",
       "        text-align: right;\n",
       "    }\n",
       "</style>\n",
       "<table border=\"1\" class=\"dataframe\">\n",
       "  <thead>\n",
       "    <tr style=\"text-align: right;\">\n",
       "      <th></th>\n",
       "      <th>COMPONENT</th>\n",
       "    </tr>\n",
       "  </thead>\n",
       "  <tbody>\n",
       "    <tr>\n",
       "      <th>0</th>\n",
       "      <td>561876100</td>\n",
       "    </tr>\n",
       "    <tr>\n",
       "      <th>1</th>\n",
       "      <td>-1227824566</td>\n",
       "    </tr>\n",
       "    <tr>\n",
       "      <th>2</th>\n",
       "      <td>-489322524</td>\n",
       "    </tr>\n",
       "    <tr>\n",
       "      <th>3</th>\n",
       "      <td>201209198</td>\n",
       "    </tr>\n",
       "    <tr>\n",
       "      <th>4</th>\n",
       "      <td>627685066</td>\n",
       "    </tr>\n",
       "    <tr>\n",
       "      <th>...</th>\n",
       "      <td>...</td>\n",
       "    </tr>\n",
       "    <tr>\n",
       "      <th>187</th>\n",
       "      <td>1525488905</td>\n",
       "    </tr>\n",
       "    <tr>\n",
       "      <th>188</th>\n",
       "      <td>-173839783</td>\n",
       "    </tr>\n",
       "    <tr>\n",
       "      <th>189</th>\n",
       "      <td>2085589648</td>\n",
       "    </tr>\n",
       "    <tr>\n",
       "      <th>190</th>\n",
       "      <td>1613730181</td>\n",
       "    </tr>\n",
       "    <tr>\n",
       "      <th>191</th>\n",
       "      <td>-1941799300</td>\n",
       "    </tr>\n",
       "  </tbody>\n",
       "</table>\n",
       "<p>192 rows × 1 columns</p>\n",
       "</div>"
      ],
      "text/plain": [
       "      COMPONENT\n",
       "0     561876100\n",
       "1   -1227824566\n",
       "2    -489322524\n",
       "3     201209198\n",
       "4     627685066\n",
       "..          ...\n",
       "187  1525488905\n",
       "188  -173839783\n",
       "189  2085589648\n",
       "190  1613730181\n",
       "191 -1941799300\n",
       "\n",
       "[192 rows x 1 columns]"
      ]
     },
     "execution_count": 7,
     "metadata": {},
     "output_type": "execute_result"
    }
   ],
   "source": [
    "HighTemp_Components"
   ]
  },
  {
   "cell_type": "code",
   "execution_count": null,
   "id": "11715111-12c7-4229-b495-2804be5cfde5",
   "metadata": {},
   "outputs": [],
   "source": [
    "# Get High temperature Components with Timestamp concatenated that makes the unique key to join to Power Signals and find Max Power per component."
   ]
  },
  {
   "cell_type": "code",
   "execution_count": 8,
   "id": "77f909f6-e749-41d7-89c9-b58212a2cf33",
   "metadata": {},
   "outputs": [],
   "source": [
    "HighTemp_Components_with_TimeStamp= sqldf(\"select distinct component||timestamp from main_df where value > 40.56 and signal_name in ('LM_handleNegCoreTempDegC','LM_pcbaTempDegC','LM_handlePosCoreTempDegC')\")"
   ]
  },
  {
   "cell_type": "code",
   "execution_count": 9,
   "id": "19708173-c0f4-479f-b960-be3bd5b84e0d",
   "metadata": {},
   "outputs": [
    {
     "data": {
      "text/html": [
       "<div>\n",
       "<style scoped>\n",
       "    .dataframe tbody tr th:only-of-type {\n",
       "        vertical-align: middle;\n",
       "    }\n",
       "\n",
       "    .dataframe tbody tr th {\n",
       "        vertical-align: top;\n",
       "    }\n",
       "\n",
       "    .dataframe thead th {\n",
       "        text-align: right;\n",
       "    }\n",
       "</style>\n",
       "<table border=\"1\" class=\"dataframe\">\n",
       "  <thead>\n",
       "    <tr style=\"text-align: right;\">\n",
       "      <th></th>\n",
       "      <th>component||timestamp</th>\n",
       "    </tr>\n",
       "  </thead>\n",
       "  <tbody>\n",
       "    <tr>\n",
       "      <th>0</th>\n",
       "      <td>5618761001647460249344</td>\n",
       "    </tr>\n",
       "    <tr>\n",
       "      <th>1</th>\n",
       "      <td>5618761001647460260345</td>\n",
       "    </tr>\n",
       "    <tr>\n",
       "      <th>2</th>\n",
       "      <td>5618761001647460270349</td>\n",
       "    </tr>\n",
       "    <tr>\n",
       "      <th>3</th>\n",
       "      <td>5618761001647460280343</td>\n",
       "    </tr>\n",
       "    <tr>\n",
       "      <th>4</th>\n",
       "      <td>5618761001647460290343</td>\n",
       "    </tr>\n",
       "    <tr>\n",
       "      <th>...</th>\n",
       "      <td>...</td>\n",
       "    </tr>\n",
       "    <tr>\n",
       "      <th>2979173</th>\n",
       "      <td>-20697797091647120472952</td>\n",
       "    </tr>\n",
       "    <tr>\n",
       "      <th>2979174</th>\n",
       "      <td>-20697797091647120482948</td>\n",
       "    </tr>\n",
       "    <tr>\n",
       "      <th>2979175</th>\n",
       "      <td>-20697797091647120524959</td>\n",
       "    </tr>\n",
       "    <tr>\n",
       "      <th>2979176</th>\n",
       "      <td>-20697797091647120534964</td>\n",
       "    </tr>\n",
       "    <tr>\n",
       "      <th>2979177</th>\n",
       "      <td>-20697797091647120544959</td>\n",
       "    </tr>\n",
       "  </tbody>\n",
       "</table>\n",
       "<p>2979178 rows × 1 columns</p>\n",
       "</div>"
      ],
      "text/plain": [
       "             component||timestamp\n",
       "0          5618761001647460249344\n",
       "1          5618761001647460260345\n",
       "2          5618761001647460270349\n",
       "3          5618761001647460280343\n",
       "4          5618761001647460290343\n",
       "...                           ...\n",
       "2979173  -20697797091647120472952\n",
       "2979174  -20697797091647120482948\n",
       "2979175  -20697797091647120524959\n",
       "2979176  -20697797091647120534964\n",
       "2979177  -20697797091647120544959\n",
       "\n",
       "[2979178 rows x 1 columns]"
      ]
     },
     "execution_count": 9,
     "metadata": {},
     "output_type": "execute_result"
    }
   ],
   "source": [
    "HighTemp_Components_with_TimeStamp"
   ]
  },
  {
   "cell_type": "code",
   "execution_count": null,
   "id": "3d886ced-9a27-4aea-8a4f-d300e8b407ab",
   "metadata": {},
   "outputs": [],
   "source": [
    "# Component with TimeStamp concatenated makes the unique key to join to Power Signals and find Max Power per component."
   ]
  },
  {
   "cell_type": "code",
   "execution_count": 10,
   "id": "ee28d841-1364-407c-91c6-e8263d350dda",
   "metadata": {},
   "outputs": [],
   "source": [
    "MaxPower_for_HighTempComponents=sqldf(\"select component, max(value) from main_df where signal_name in ('LM_powerLimit') and component||timestamp in (select distinct component||timestamp from main_df where value > 40.56 and signal_name in ('LM_handleNegCoreTempDegC','LM_pcbaTempDegC','LM_handlePosCoreTempDegC')) group by component\")"
   ]
  },
  {
   "cell_type": "code",
   "execution_count": 11,
   "id": "be2d81a5-d426-4f85-8f54-121d5bfaef32",
   "metadata": {},
   "outputs": [
    {
     "data": {
      "text/html": [
       "<div>\n",
       "<style scoped>\n",
       "    .dataframe tbody tr th:only-of-type {\n",
       "        vertical-align: middle;\n",
       "    }\n",
       "\n",
       "    .dataframe tbody tr th {\n",
       "        vertical-align: top;\n",
       "    }\n",
       "\n",
       "    .dataframe thead th {\n",
       "        text-align: right;\n",
       "    }\n",
       "</style>\n",
       "<table border=\"1\" class=\"dataframe\">\n",
       "  <thead>\n",
       "    <tr style=\"text-align: right;\">\n",
       "      <th></th>\n",
       "      <th>COMPONENT</th>\n",
       "      <th>max(value)</th>\n",
       "    </tr>\n",
       "  </thead>\n",
       "  <tbody>\n",
       "    <tr>\n",
       "      <th>0</th>\n",
       "      <td>-2141572541</td>\n",
       "      <td>283.294058</td>\n",
       "    </tr>\n",
       "    <tr>\n",
       "      <th>1</th>\n",
       "      <td>-2133907815</td>\n",
       "      <td>175.244091</td>\n",
       "    </tr>\n",
       "    <tr>\n",
       "      <th>2</th>\n",
       "      <td>-2126979618</td>\n",
       "      <td>359.410656</td>\n",
       "    </tr>\n",
       "    <tr>\n",
       "      <th>3</th>\n",
       "      <td>-2088017096</td>\n",
       "      <td>300.092982</td>\n",
       "    </tr>\n",
       "    <tr>\n",
       "      <th>4</th>\n",
       "      <td>-2084872135</td>\n",
       "      <td>358.834772</td>\n",
       "    </tr>\n",
       "    <tr>\n",
       "      <th>...</th>\n",
       "      <td>...</td>\n",
       "      <td>...</td>\n",
       "    </tr>\n",
       "    <tr>\n",
       "      <th>187</th>\n",
       "      <td>2085446917</td>\n",
       "      <td>293.732776</td>\n",
       "    </tr>\n",
       "    <tr>\n",
       "      <th>188</th>\n",
       "      <td>2085589648</td>\n",
       "      <td>192.274059</td>\n",
       "    </tr>\n",
       "    <tr>\n",
       "      <th>189</th>\n",
       "      <td>2105022125</td>\n",
       "      <td>286.227751</td>\n",
       "    </tr>\n",
       "    <tr>\n",
       "      <th>190</th>\n",
       "      <td>2115833853</td>\n",
       "      <td>359.412658</td>\n",
       "    </tr>\n",
       "    <tr>\n",
       "      <th>191</th>\n",
       "      <td>2125747790</td>\n",
       "      <td>359.461057</td>\n",
       "    </tr>\n",
       "  </tbody>\n",
       "</table>\n",
       "<p>192 rows × 2 columns</p>\n",
       "</div>"
      ],
      "text/plain": [
       "      COMPONENT  max(value)\n",
       "0   -2141572541  283.294058\n",
       "1   -2133907815  175.244091\n",
       "2   -2126979618  359.410656\n",
       "3   -2088017096  300.092982\n",
       "4   -2084872135  358.834772\n",
       "..          ...         ...\n",
       "187  2085446917  293.732776\n",
       "188  2085589648  192.274059\n",
       "189  2105022125  286.227751\n",
       "190  2115833853  359.412658\n",
       "191  2125747790  359.461057\n",
       "\n",
       "[192 rows x 2 columns]"
      ]
     },
     "execution_count": 11,
     "metadata": {},
     "output_type": "execute_result"
    }
   ],
   "source": [
    "MaxPower_for_HighTempComponents"
   ]
  },
  {
   "cell_type": "code",
   "execution_count": null,
   "id": "c8a521d3-a4a0-4ef1-8b0a-313482724e18",
   "metadata": {},
   "outputs": [],
   "source": [
    "# Create a Alerts signal DF to join to temperature and power signal DF."
   ]
  },
  {
   "cell_type": "code",
   "execution_count": 5,
   "id": "198888b9-a75a-4af0-900e-3d89bf528086",
   "metadata": {},
   "outputs": [],
   "source": [
    "Alerts_DF=pd.read_csv(\"/Users/saurabhmehta/Documents/Tesla/Tesla_SEIA_analyst_alerts_data.csv\")"
   ]
  },
  {
   "cell_type": "code",
   "execution_count": 6,
   "id": "caa94834-f940-4dad-a24d-af7d3771a22d",
   "metadata": {},
   "outputs": [
    {
     "data": {
      "text/plain": [
       "(832, 7)"
      ]
     },
     "execution_count": 6,
     "metadata": {},
     "output_type": "execute_result"
    }
   ],
   "source": [
    "Alerts_DF.shape"
   ]
  },
  {
   "cell_type": "code",
   "execution_count": null,
   "id": "361f93ba-d7ad-4199-8d1b-42deda9058e3",
   "metadata": {},
   "outputs": [],
   "source": [
    "# Create Temperature Signal DF and Power Signal DF "
   ]
  },
  {
   "cell_type": "code",
   "execution_count": 7,
   "id": "a94081f9-b8ce-4db7-bb0d-e1f7ba31f4d5",
   "metadata": {},
   "outputs": [],
   "source": [
    "TemperatureSignal_DF=sqldf(\"select * from  main_df where value > 40.56 and signal_name in ('LM_handleNegCoreTempDegC','LM_pcbaTempDegC','LM_handlePosCoreTempDegC')\")\n"
   ]
  },
  {
   "cell_type": "code",
   "execution_count": 8,
   "id": "4a3267e9-becb-40e6-91c9-196686cc4ae3",
   "metadata": {},
   "outputs": [
    {
     "data": {
      "text/plain": [
       "(4426621, 8)"
      ]
     },
     "execution_count": 8,
     "metadata": {},
     "output_type": "execute_result"
    }
   ],
   "source": [
    "TemperatureSignal_DF.shape"
   ]
  },
  {
   "cell_type": "code",
   "execution_count": 9,
   "id": "24fd2613-5c1a-44b6-9df6-77907543c04a",
   "metadata": {},
   "outputs": [],
   "source": [
    "TemperatureSignal_DF.to_csv(\"/Users/saurabhmehta/Documents/Tesla/TemperatureSignal_DF.csv\", index=False)"
   ]
  },
  {
   "cell_type": "code",
   "execution_count": 10,
   "id": "0dd13504-fc69-4d02-952f-86e2d0074ef0",
   "metadata": {},
   "outputs": [],
   "source": [
    "PowerSignal_DF=sqldf(\"select * from main_df where signal_name in ('LM_powerLimit')\")\n"
   ]
  },
  {
   "cell_type": "code",
   "execution_count": 11,
   "id": "7c2e0002-7d3c-42bc-b7d0-261c00b935b4",
   "metadata": {},
   "outputs": [
    {
     "data": {
      "text/plain": [
       "(3582164, 8)"
      ]
     },
     "execution_count": 11,
     "metadata": {},
     "output_type": "execute_result"
    }
   ],
   "source": [
    "PowerSignal_DF.shape"
   ]
  },
  {
   "cell_type": "code",
   "execution_count": 12,
   "id": "bddf11d1-fa03-4a49-9402-12a9a15036a1",
   "metadata": {},
   "outputs": [],
   "source": [
    "PowerSignal_DF.to_csv(\"/Users/saurabhmehta/Documents/Tesla/PowerSignal_DF.csv\", index=False)"
   ]
  },
  {
   "cell_type": "code",
   "execution_count": null,
   "id": "2be1cd80-73ea-49a3-a57a-a56270c432d1",
   "metadata": {},
   "outputs": [],
   "source": [
    "# Join PowerSignal and TemperatureSignal with Alerts on component and timestamp(rolled up from milliseconds to minute level) \n",
    "# milliseconds rolled up to seconds from milliseconds \n",
    "# seconds rolled up to minute by using MOD function with 60 divisor to roll up to nearest minute.\n",
    "# This rollup / rounding of milliseconds to minute is required so we don't drop any alerts since alerts timestamp doesn't align with Signals timestamp\n",
    "# This will map alerts to all the signals in that minute for that component. This is better than dropping the alert all together"
   ]
  },
  {
   "cell_type": "code",
   "execution_count": 18,
   "id": "f2dfb16f-166a-4757-9327-8a9484cc4434",
   "metadata": {},
   "outputs": [],
   "source": [
    "PowerSignal_and_Alerts_DF= sqldf(\"select a.*, b.alert_name from PowerSignal_DF a left join Alerts_DF b on (a.component=b.component and (FLOOR(a.timestamp/1000)-MOD((FLOOR(a.timestamp/1000)),60))=(FLOOR(b.timestamp/1000)-MOD((FLOOR(b.timestamp/1000)),60)))\")"
   ]
  },
  {
   "cell_type": "code",
   "execution_count": 21,
   "id": "9b158f18-cd1c-43c7-b918-32754dc6ad63",
   "metadata": {},
   "outputs": [],
   "source": [
    "PowerSignal_and_Alerts_DF.to_csv(\"/Users/saurabhmehta/Documents/Tesla/PowerSignal_and_Alerts_DF.csv\", index=False)"
   ]
  },
  {
   "cell_type": "code",
   "execution_count": 19,
   "id": "49c9b126-c25b-44f0-8bd0-4c80a5d7309d",
   "metadata": {},
   "outputs": [
    {
     "name": "stdout",
     "output_type": "stream",
     "text": [
      "      Unnamed: 0      timestamp        SITE       ASSET   COMPONENT   \n",
      "0         261585  1647724503503 -1844894889  1477164192 -1702932383  \\\n",
      "1         261586  1647724508485 -1844894889  1477164192 -1702932383   \n",
      "2         261587  1647724513492 -1844894889  1477164192 -1702932383   \n",
      "3         261588  1647724518488 -1844894889  1477164192 -1702932383   \n",
      "4         261589  1647724523602 -1844894889  1477164192 -1702932383   \n",
      "...          ...            ...         ...         ...         ...   \n",
      "1899      281328  1647357576395  -977145491 -2098644635  -226928606   \n",
      "1900      281330  1647357581402  -977145491 -2098644635  -226928606   \n",
      "1901      281331  1647357586396  -977145491 -2098644635  -226928606   \n",
      "1902      281333  1647357592402  -977145491 -2098644635  -226928606   \n",
      "1903      281336  1647357598400  -977145491 -2098644635  -226928606   \n",
      "\n",
      "        signal_name       VALUE  event_date                  alert_name  \n",
      "0     LM_powerLimit  307.883444  2022-03-19  LM_a141_cableTempImbalance  \n",
      "1     LM_powerLimit  306.142060  2022-03-19  LM_a141_cableTempImbalance  \n",
      "2     LM_powerLimit  303.237312  2022-03-19  LM_a141_cableTempImbalance  \n",
      "3     LM_powerLimit  298.363779  2022-03-19  LM_a141_cableTempImbalance  \n",
      "4     LM_powerLimit  281.390192  2022-03-19  LM_a141_cableTempImbalance  \n",
      "...             ...         ...         ...                         ...  \n",
      "1899  LM_powerLimit  171.493303  2022-03-15  LM_a141_cableTempImbalance  \n",
      "1900  LM_powerLimit  173.806531  2022-03-15  LM_a141_cableTempImbalance  \n",
      "1901  LM_powerLimit  171.961806  2022-03-15  LM_a141_cableTempImbalance  \n",
      "1902  LM_powerLimit  170.480953  2022-03-15  LM_a141_cableTempImbalance  \n",
      "1903  LM_powerLimit  168.491519  2022-03-15  LM_a141_cableTempImbalance  \n",
      "\n",
      "[1904 rows x 9 columns]\n"
     ]
    }
   ],
   "source": [
    "print(sqldf(\"select * from PowerSignal_and_Alerts_DF where alert_name is not null\"))"
   ]
  },
  {
   "cell_type": "code",
   "execution_count": 20,
   "id": "95025bc1-d72d-4a75-8a29-d9d1bcbfa339",
   "metadata": {},
   "outputs": [],
   "source": [
    "TemperatureSignal_and_Alerts_DF= sqldf(\"select a.*, b.alert_name from TemperatureSignal_DF a left join Alerts_DF b on (a.component=b.component and (FLOOR(a.timestamp/1000)-MOD((FLOOR(a.timestamp/1000)),60))=(FLOOR(b.timestamp/1000)-MOD((FLOOR(b.timestamp/1000)),60)))\")"
   ]
  },
  {
   "cell_type": "code",
   "execution_count": 23,
   "id": "acd132bc-3526-4fc0-8e26-3b1ba4eb33ce",
   "metadata": {},
   "outputs": [],
   "source": [
    "TemperatureSignal_and_Alerts_DF.to_csv(\"/Users/saurabhmehta/Documents/Tesla/TemperatureSignal_and_Alerts_DF.csv\", index=False)"
   ]
  },
  {
   "cell_type": "code",
   "execution_count": 22,
   "id": "870cd9c7-5db9-47ca-b5e0-5e182be26fb8",
   "metadata": {},
   "outputs": [
    {
     "name": "stdout",
     "output_type": "stream",
     "text": [
      "      Unnamed: 0      timestamp        SITE       ASSET  COMPONENT   \n",
      "0          88256  1647393307860  -207607826 -1470107556  252179273  \\\n",
      "1          88256  1647393307860  -207607826 -1470107556  252179273   \n",
      "2          88258  1647393317818  -207607826 -1470107556  252179273   \n",
      "3          88258  1647393317818  -207607826 -1470107556  252179273   \n",
      "4          88261  1647393327827  -207607826 -1470107556  252179273   \n",
      "...          ...            ...         ...         ...        ...   \n",
      "2081      109990  1647112270200 -2073653851 -2126066089  -46972795   \n",
      "2082      109992  1647112281191 -2073653851 -2126066089  -46972795   \n",
      "2083      109993  1647112292202 -2073653851 -2126066089  -46972795   \n",
      "2084      109996  1647112302199 -2073653851 -2126066089  -46972795   \n",
      "2085      109997  1647112312202 -2073653851 -2126066089  -46972795   \n",
      "\n",
      "                   signal_name      VALUE  event_date   \n",
      "0     LM_handleNegCoreTempDegC  63.369547  2022-03-16  \\\n",
      "1     LM_handleNegCoreTempDegC  63.369547  2022-03-16   \n",
      "2     LM_handleNegCoreTempDegC  63.498204  2022-03-16   \n",
      "3     LM_handleNegCoreTempDegC  63.498204  2022-03-16   \n",
      "4     LM_handleNegCoreTempDegC  62.789007  2022-03-16   \n",
      "...                        ...        ...         ...   \n",
      "2081  LM_handlePosCoreTempDegC  61.231879  2022-03-12   \n",
      "2082  LM_handlePosCoreTempDegC  63.207744  2022-03-12   \n",
      "2083  LM_handlePosCoreTempDegC  65.337965  2022-03-12   \n",
      "2084  LM_handlePosCoreTempDegC  67.200474  2022-03-12   \n",
      "2085  LM_handlePosCoreTempDegC  69.322221  2022-03-12   \n",
      "\n",
      "                      alert_name  \n",
      "0     LM_a141_cableTempImbalance  \n",
      "1     LM_a141_cableTempImbalance  \n",
      "2     LM_a141_cableTempImbalance  \n",
      "3     LM_a141_cableTempImbalance  \n",
      "4     LM_a141_cableTempImbalance  \n",
      "...                          ...  \n",
      "2081  LM_a141_cableTempImbalance  \n",
      "2082  LM_a141_cableTempImbalance  \n",
      "2083  LM_a141_cableTempImbalance  \n",
      "2084  LM_a141_cableTempImbalance  \n",
      "2085  LM_a141_cableTempImbalance  \n",
      "\n",
      "[2086 rows x 9 columns]\n"
     ]
    }
   ],
   "source": [
    "print(sqldf(\"select * from TemperatureSignal_and_Alerts_DF where alert_name is not null\"))"
   ]
  },
  {
   "cell_type": "code",
   "execution_count": null,
   "id": "50d4ae03-c0c6-4f10-b09c-24eaa1b2a0b8",
   "metadata": {},
   "outputs": [],
   "source": []
  },
  {
   "cell_type": "code",
   "execution_count": null,
   "id": "acff6d51-e9ed-43fe-81b2-8eb91c8f2f5a",
   "metadata": {},
   "outputs": [],
   "source": []
  }
 ],
 "metadata": {
  "kernelspec": {
   "display_name": "Python 3 (ipykernel)",
   "language": "python",
   "name": "python3"
  },
  "language_info": {
   "codemirror_mode": {
    "name": "ipython",
    "version": 3
   },
   "file_extension": ".py",
   "mimetype": "text/x-python",
   "name": "python",
   "nbconvert_exporter": "python",
   "pygments_lexer": "ipython3",
   "version": "3.10.10"
  }
 },
 "nbformat": 4,
 "nbformat_minor": 5
}
